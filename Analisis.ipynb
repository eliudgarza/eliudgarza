{
  "nbformat": 4,
  "nbformat_minor": 0,
  "metadata": {
    "colab": {
      "provenance": [],
      "authorship_tag": "ABX9TyNAkFCBRxkS/dxnDXXg7Ulh",
      "include_colab_link": true
    },
    "kernelspec": {
      "name": "python3",
      "display_name": "Python 3"
    },
    "language_info": {
      "name": "python"
    }
  },
  "cells": [
    {
      "cell_type": "markdown",
      "metadata": {
        "id": "view-in-github",
        "colab_type": "text"
      },
      "source": [
        "<a href=\"https://colab.research.google.com/github/eliudgarza/eliudgarza/blob/main/Analisis.ipynb\" target=\"_parent\"><img src=\"https://colab.research.google.com/assets/colab-badge.svg\" alt=\"Open In Colab\"/></a>"
      ]
    },
    {
      "cell_type": "markdown",
      "source": [
        "Eliud Garza A00827575"
      ],
      "metadata": {
        "id": "GsgLBQPlyDzw"
      }
    },
    {
      "cell_type": "code",
      "execution_count": 1,
      "metadata": {
        "colab": {
          "base_uri": "https://localhost:8080/",
          "height": 0
        },
        "id": "NipgjGoM4kOM",
        "outputId": "38b194b6-b02d-4424-a4ad-0730f5dbf662"
      },
      "outputs": [
        {
          "output_type": "stream",
          "name": "stdout",
          "text": [
            "Mounted at /content/gdrive\n",
            "/content\n"
          ]
        }
      ],
      "source": [
        "from google.colab import drive\n",
        "drive.mount(\"/content/gdrive\")\n",
        "\n",
        "!pwd"
      ]
    },
    {
      "cell_type": "code",
      "source": [
        "%cd \"/content/gdrive/MyDrive/7mo Semestre/Modulo 2\"\n",
        "\n",
        "!ls"
      ],
      "metadata": {
        "colab": {
          "base_uri": "https://localhost:8080/",
          "height": 0
        },
        "id": "AcLFRWNU4yNP",
        "outputId": "5972d030-e620-42dd-d24e-f4b484570b22"
      },
      "execution_count": 2,
      "outputs": [
        {
          "output_type": "stream",
          "name": "stdout",
          "text": [
            "/content/gdrive/MyDrive/7mo Semestre/Modulo 2\n",
            " brain_stroke.csv\t      'Neural Network.ipynb'   Valhalla23.csv\n",
            " mc-donalds-menu.csv\t       PlayDataset.csv\n",
            "'Momento de Retro: Modulo 2'   Titanic\n"
          ]
        }
      ]
    },
    {
      "cell_type": "code",
      "source": [
        "import pandas as pd\n",
        "import numpy as np\n",
        "\n",
        "import seaborn as sns\n",
        "import matplotlib.pyplot as plt\n",
        "%matplotlib inline\n",
        "\n",
        "import missingno as msno \n",
        "from sklearn.model_selection import train_test_split\n",
        "from sklearn.ensemble import RandomForestClassifier\n",
        "from sklearn.tree import DecisionTreeClassifier\n",
        "from sklearn.metrics import zero_one_loss\n",
        "from sklearn.preprocessing import LabelEncoder\n",
        "from mlxtend.plotting import plot_decision_regions\n",
        "from sklearn.preprocessing import LabelEncoder\n",
        "\n",
        "from sklearn.metrics import accuracy_score\n",
        "from sklearn.metrics import f1_score\n",
        "from sklearn.metrics import recall_score\n",
        "from sklearn.metrics import precision_score\n",
        "from sklearn import tree\n",
        "from sklearn import metrics\n",
        "from sklearn.metrics import confusion_matrix\n",
        "from sklearn.model_selection import validation_curve\n",
        "from sklearn import datasets"
      ],
      "metadata": {
        "id": "R7ac-bSw9zAq"
      },
      "execution_count": 197,
      "outputs": []
    },
    {
      "cell_type": "code",
      "source": [
        "def _draw_bootstrap_sample(rng, X, y):\n",
        "    sample_indices = np.arange(X.shape[0])\n",
        "    bootstrap_indices = rng.choice(\n",
        "        sample_indices, size=sample_indices.shape[0], replace=True\n",
        "    )\n",
        "    return X[bootstrap_indices], y[bootstrap_indices]\n",
        "\n",
        "\n",
        "def bias_variance_decomp(\n",
        "    estimator,\n",
        "    X_train,\n",
        "    y_train,\n",
        "    X_test,\n",
        "    y_test,\n",
        "    loss=\"0-1_loss\",\n",
        "    num_rounds=200,\n",
        "    random_seed=None,\n",
        "    **fit_params\n",
        "):\n",
        "    \"\"\"\n",
        "    estimator : object\n",
        "        A classifier or regressor object or class implementing both a\n",
        "        `fit` and `predict` method similar to the scikit-learn API.\n",
        "    X_train : array-like, shape=(num_examples, num_features)\n",
        "        A training dataset for drawing the bootstrap samples to carry\n",
        "        out the bias-variance decomposition.\n",
        "    y_train : array-like, shape=(num_examples)\n",
        "        Targets (class labels, continuous values in case of regression)\n",
        "        associated with the `X_train` examples.\n",
        "    X_test : array-like, shape=(num_examples, num_features)\n",
        "        The test dataset for computing the average loss, bias,\n",
        "        and variance.\n",
        "    y_test : array-like, shape=(num_examples)\n",
        "        Targets (class labels, continuous values in case of regression)\n",
        "        associated with the `X_test` examples.\n",
        "    loss : str (default='0-1_loss')\n",
        "        Loss function for performing the bias-variance decomposition.\n",
        "        Currently allowed values are '0-1_loss' and 'mse'.\n",
        "    num_rounds : int (default=200)\n",
        "        Number of bootstrap rounds (sampling from the training set)\n",
        "        for performing the bias-variance decomposition. Each bootstrap\n",
        "        sample has the same size as the original training set.\n",
        "    random_seed : int (default=None)\n",
        "        Random seed for the bootstrap sampling used for the\n",
        "        bias-variance decomposition.\n",
        "    fit_params : additional parameters\n",
        "        Additional parameters to be passed to the .fit() function of the\n",
        "        estimator when it is fit to the bootstrap samples.\n",
        "    Returns\n",
        "    ----------\n",
        "    avg_expected_loss, avg_bias, avg_var : returns the average expected\n",
        "        average bias, and average bias (all floats), where the average\n",
        "        is computed over the data points in the test set.\n",
        "    Examples\n",
        "    -----------\n",
        "    For usage examples, please see\n",
        "    http://rasbt.github.io/mlxtend/user_guide/evaluate/bias_variance_decomp/\n",
        "    \"\"\"\n",
        "    supported = [\"0-1_loss\", \"mse\"]\n",
        "    if loss not in supported:\n",
        "        raise NotImplementedError(\"loss must be one of the following: %s\" % supported)\n",
        "\n",
        "    for ary in (X_train, y_train, X_test, y_test):\n",
        "        if hasattr(ary, \"loc\"):\n",
        "            raise ValueError(\n",
        "                \"The bias_variance_decomp does not \"\n",
        "                \"support pandas DataFrames yet. \"\n",
        "                \"Please check the inputs to \"\n",
        "                \"X_train, y_train, X_test, y_test. \"\n",
        "                \"If e.g., X_train is a pandas \"\n",
        "                \"DataFrame, try passing it as NumPy array via \"\n",
        "                \"X_train=X_train.values.\"\n",
        "            )\n",
        "\n",
        "    rng = np.random.RandomState(random_seed)\n",
        "\n",
        "    if loss == \"0-1_loss\":\n",
        "        dtype = np.int64\n",
        "    elif loss == \"mse\":\n",
        "        dtype = np.float64\n",
        "\n",
        "    all_pred = np.zeros((num_rounds, y_test.shape[0]), dtype=dtype)\n",
        "\n",
        "    for i in range(num_rounds):\n",
        "        X_boot, y_boot = _draw_bootstrap_sample(rng, X_train, y_train)\n",
        "\n",
        "        # Keras support\n",
        "        if estimator.__class__.__name__ in [\"Sequential\", \"Functional\"]:\n",
        "\n",
        "            # reset model\n",
        "            for ix, layer in enumerate(estimator.layers):\n",
        "                if hasattr(estimator.layers[ix], \"kernel_initializer\") and hasattr(\n",
        "                    estimator.layers[ix], \"bias_initializer\"\n",
        "                ):\n",
        "                    weight_initializer = estimator.layers[ix].kernel_initializer\n",
        "                    bias_initializer = estimator.layers[ix].bias_initializer\n",
        "\n",
        "                    old_weights, old_biases = estimator.layers[ix].get_weights()\n",
        "\n",
        "                    estimator.layers[ix].set_weights(\n",
        "                        [\n",
        "                            weight_initializer(shape=old_weights.shape),\n",
        "                            bias_initializer(shape=len(old_biases)),\n",
        "                        ]\n",
        "                    )\n",
        "\n",
        "            estimator.fit(X_boot, y_boot, **fit_params)\n",
        "            pred = estimator.predict(X_test).reshape(1, -1)\n",
        "        else:\n",
        "            pred = estimator.fit(X_boot, y_boot, **fit_params).predict(X_test)\n",
        "        all_pred[i] = pred\n",
        "\n",
        "    if loss == \"0-1_loss\":\n",
        "        main_predictions = np.apply_along_axis(\n",
        "            lambda x: np.argmax(np.bincount(x)), axis=0, arr=all_pred\n",
        "        )\n",
        "\n",
        "        avg_expected_loss = np.apply_along_axis(\n",
        "            lambda x: (x != y_test).mean(), axis=1, arr=all_pred\n",
        "        ).mean()\n",
        "\n",
        "        avg_bias = np.sum(main_predictions != y_test) / y_test.size\n",
        "\n",
        "        var = np.zeros(pred.shape)\n",
        "\n",
        "        for pred in all_pred:\n",
        "            var += (pred != main_predictions).astype(np.int)\n",
        "        var /= num_rounds\n",
        "\n",
        "        avg_var = var.sum() / y_test.shape[0]\n",
        "\n",
        "    else:\n",
        "        avg_expected_loss = np.apply_along_axis(\n",
        "            lambda x: ((x - y_test) ** 2).mean(), axis=1, arr=all_pred\n",
        "        ).mean()\n",
        "\n",
        "        main_predictions = np.mean(all_pred, axis=0)\n",
        "\n",
        "        avg_bias = np.sum((main_predictions - y_test) ** 2) / y_test.size\n",
        "        avg_var = np.sum((main_predictions - all_pred) ** 2) / all_pred.size\n",
        "\n",
        "    return avg_expected_loss, avg_bias, avg_var"
      ],
      "metadata": {
        "id": "_wHnzWSaON_0"
      },
      "execution_count": 110,
      "outputs": []
    },
    {
      "cell_type": "code",
      "source": [
        "dset = pd.read_csv(\"brain_stroke.csv\")\n",
        "\n",
        "dset.head(5000)"
      ],
      "metadata": {
        "colab": {
          "base_uri": "https://localhost:8080/",
          "height": 655
        },
        "id": "MrvSqSRK93kW",
        "outputId": "c68d073e-8317-4f8d-d9e0-197a8cd4432e"
      },
      "execution_count": 4,
      "outputs": [
        {
          "output_type": "execute_result",
          "data": {
            "text/plain": [
              "      gender   age  hypertension  heart_disease ever_married      work_type  \\\n",
              "0       Male  67.0             0              1          Yes        Private   \n",
              "1       Male  80.0             0              1          Yes        Private   \n",
              "2     Female  49.0             0              0          Yes        Private   \n",
              "3     Female  79.0             1              0          Yes  Self-employed   \n",
              "4       Male  81.0             0              0          Yes        Private   \n",
              "...      ...   ...           ...            ...          ...            ...   \n",
              "4976    Male  41.0             0              0           No        Private   \n",
              "4977    Male  40.0             0              0          Yes        Private   \n",
              "4978  Female  45.0             1              0          Yes       Govt_job   \n",
              "4979    Male  40.0             0              0          Yes        Private   \n",
              "4980  Female  80.0             1              0          Yes        Private   \n",
              "\n",
              "     Residence_type  avg_glucose_level   bmi   smoking_status  stroke  \n",
              "0             Urban             228.69  36.6  formerly smoked       1  \n",
              "1             Rural             105.92  32.5     never smoked       1  \n",
              "2             Urban             171.23  34.4           smokes       1  \n",
              "3             Rural             174.12  24.0     never smoked       1  \n",
              "4             Urban             186.21  29.0  formerly smoked       1  \n",
              "...             ...                ...   ...              ...     ...  \n",
              "4976          Rural              70.15  29.8  formerly smoked       0  \n",
              "4977          Urban             191.15  31.1           smokes       0  \n",
              "4978          Rural              95.02  31.8           smokes       0  \n",
              "4979          Rural              83.94  30.0           smokes       0  \n",
              "4980          Urban              83.75  29.1     never smoked       0  \n",
              "\n",
              "[4981 rows x 11 columns]"
            ],
            "text/html": [
              "\n",
              "  <div id=\"df-3e4e490d-2618-4d68-ae3f-d2d21778fa14\">\n",
              "    <div class=\"colab-df-container\">\n",
              "      <div>\n",
              "<style scoped>\n",
              "    .dataframe tbody tr th:only-of-type {\n",
              "        vertical-align: middle;\n",
              "    }\n",
              "\n",
              "    .dataframe tbody tr th {\n",
              "        vertical-align: top;\n",
              "    }\n",
              "\n",
              "    .dataframe thead th {\n",
              "        text-align: right;\n",
              "    }\n",
              "</style>\n",
              "<table border=\"1\" class=\"dataframe\">\n",
              "  <thead>\n",
              "    <tr style=\"text-align: right;\">\n",
              "      <th></th>\n",
              "      <th>gender</th>\n",
              "      <th>age</th>\n",
              "      <th>hypertension</th>\n",
              "      <th>heart_disease</th>\n",
              "      <th>ever_married</th>\n",
              "      <th>work_type</th>\n",
              "      <th>Residence_type</th>\n",
              "      <th>avg_glucose_level</th>\n",
              "      <th>bmi</th>\n",
              "      <th>smoking_status</th>\n",
              "      <th>stroke</th>\n",
              "    </tr>\n",
              "  </thead>\n",
              "  <tbody>\n",
              "    <tr>\n",
              "      <th>0</th>\n",
              "      <td>Male</td>\n",
              "      <td>67.0</td>\n",
              "      <td>0</td>\n",
              "      <td>1</td>\n",
              "      <td>Yes</td>\n",
              "      <td>Private</td>\n",
              "      <td>Urban</td>\n",
              "      <td>228.69</td>\n",
              "      <td>36.6</td>\n",
              "      <td>formerly smoked</td>\n",
              "      <td>1</td>\n",
              "    </tr>\n",
              "    <tr>\n",
              "      <th>1</th>\n",
              "      <td>Male</td>\n",
              "      <td>80.0</td>\n",
              "      <td>0</td>\n",
              "      <td>1</td>\n",
              "      <td>Yes</td>\n",
              "      <td>Private</td>\n",
              "      <td>Rural</td>\n",
              "      <td>105.92</td>\n",
              "      <td>32.5</td>\n",
              "      <td>never smoked</td>\n",
              "      <td>1</td>\n",
              "    </tr>\n",
              "    <tr>\n",
              "      <th>2</th>\n",
              "      <td>Female</td>\n",
              "      <td>49.0</td>\n",
              "      <td>0</td>\n",
              "      <td>0</td>\n",
              "      <td>Yes</td>\n",
              "      <td>Private</td>\n",
              "      <td>Urban</td>\n",
              "      <td>171.23</td>\n",
              "      <td>34.4</td>\n",
              "      <td>smokes</td>\n",
              "      <td>1</td>\n",
              "    </tr>\n",
              "    <tr>\n",
              "      <th>3</th>\n",
              "      <td>Female</td>\n",
              "      <td>79.0</td>\n",
              "      <td>1</td>\n",
              "      <td>0</td>\n",
              "      <td>Yes</td>\n",
              "      <td>Self-employed</td>\n",
              "      <td>Rural</td>\n",
              "      <td>174.12</td>\n",
              "      <td>24.0</td>\n",
              "      <td>never smoked</td>\n",
              "      <td>1</td>\n",
              "    </tr>\n",
              "    <tr>\n",
              "      <th>4</th>\n",
              "      <td>Male</td>\n",
              "      <td>81.0</td>\n",
              "      <td>0</td>\n",
              "      <td>0</td>\n",
              "      <td>Yes</td>\n",
              "      <td>Private</td>\n",
              "      <td>Urban</td>\n",
              "      <td>186.21</td>\n",
              "      <td>29.0</td>\n",
              "      <td>formerly smoked</td>\n",
              "      <td>1</td>\n",
              "    </tr>\n",
              "    <tr>\n",
              "      <th>...</th>\n",
              "      <td>...</td>\n",
              "      <td>...</td>\n",
              "      <td>...</td>\n",
              "      <td>...</td>\n",
              "      <td>...</td>\n",
              "      <td>...</td>\n",
              "      <td>...</td>\n",
              "      <td>...</td>\n",
              "      <td>...</td>\n",
              "      <td>...</td>\n",
              "      <td>...</td>\n",
              "    </tr>\n",
              "    <tr>\n",
              "      <th>4976</th>\n",
              "      <td>Male</td>\n",
              "      <td>41.0</td>\n",
              "      <td>0</td>\n",
              "      <td>0</td>\n",
              "      <td>No</td>\n",
              "      <td>Private</td>\n",
              "      <td>Rural</td>\n",
              "      <td>70.15</td>\n",
              "      <td>29.8</td>\n",
              "      <td>formerly smoked</td>\n",
              "      <td>0</td>\n",
              "    </tr>\n",
              "    <tr>\n",
              "      <th>4977</th>\n",
              "      <td>Male</td>\n",
              "      <td>40.0</td>\n",
              "      <td>0</td>\n",
              "      <td>0</td>\n",
              "      <td>Yes</td>\n",
              "      <td>Private</td>\n",
              "      <td>Urban</td>\n",
              "      <td>191.15</td>\n",
              "      <td>31.1</td>\n",
              "      <td>smokes</td>\n",
              "      <td>0</td>\n",
              "    </tr>\n",
              "    <tr>\n",
              "      <th>4978</th>\n",
              "      <td>Female</td>\n",
              "      <td>45.0</td>\n",
              "      <td>1</td>\n",
              "      <td>0</td>\n",
              "      <td>Yes</td>\n",
              "      <td>Govt_job</td>\n",
              "      <td>Rural</td>\n",
              "      <td>95.02</td>\n",
              "      <td>31.8</td>\n",
              "      <td>smokes</td>\n",
              "      <td>0</td>\n",
              "    </tr>\n",
              "    <tr>\n",
              "      <th>4979</th>\n",
              "      <td>Male</td>\n",
              "      <td>40.0</td>\n",
              "      <td>0</td>\n",
              "      <td>0</td>\n",
              "      <td>Yes</td>\n",
              "      <td>Private</td>\n",
              "      <td>Rural</td>\n",
              "      <td>83.94</td>\n",
              "      <td>30.0</td>\n",
              "      <td>smokes</td>\n",
              "      <td>0</td>\n",
              "    </tr>\n",
              "    <tr>\n",
              "      <th>4980</th>\n",
              "      <td>Female</td>\n",
              "      <td>80.0</td>\n",
              "      <td>1</td>\n",
              "      <td>0</td>\n",
              "      <td>Yes</td>\n",
              "      <td>Private</td>\n",
              "      <td>Urban</td>\n",
              "      <td>83.75</td>\n",
              "      <td>29.1</td>\n",
              "      <td>never smoked</td>\n",
              "      <td>0</td>\n",
              "    </tr>\n",
              "  </tbody>\n",
              "</table>\n",
              "<p>4981 rows × 11 columns</p>\n",
              "</div>\n",
              "      <button class=\"colab-df-convert\" onclick=\"convertToInteractive('df-3e4e490d-2618-4d68-ae3f-d2d21778fa14')\"\n",
              "              title=\"Convert this dataframe to an interactive table.\"\n",
              "              style=\"display:none;\">\n",
              "        \n",
              "  <svg xmlns=\"http://www.w3.org/2000/svg\" height=\"24px\"viewBox=\"0 0 24 24\"\n",
              "       width=\"24px\">\n",
              "    <path d=\"M0 0h24v24H0V0z\" fill=\"none\"/>\n",
              "    <path d=\"M18.56 5.44l.94 2.06.94-2.06 2.06-.94-2.06-.94-.94-2.06-.94 2.06-2.06.94zm-11 1L8.5 8.5l.94-2.06 2.06-.94-2.06-.94L8.5 2.5l-.94 2.06-2.06.94zm10 10l.94 2.06.94-2.06 2.06-.94-2.06-.94-.94-2.06-.94 2.06-2.06.94z\"/><path d=\"M17.41 7.96l-1.37-1.37c-.4-.4-.92-.59-1.43-.59-.52 0-1.04.2-1.43.59L10.3 9.45l-7.72 7.72c-.78.78-.78 2.05 0 2.83L4 21.41c.39.39.9.59 1.41.59.51 0 1.02-.2 1.41-.59l7.78-7.78 2.81-2.81c.8-.78.8-2.07 0-2.86zM5.41 20L4 18.59l7.72-7.72 1.47 1.35L5.41 20z\"/>\n",
              "  </svg>\n",
              "      </button>\n",
              "      \n",
              "  <style>\n",
              "    .colab-df-container {\n",
              "      display:flex;\n",
              "      flex-wrap:wrap;\n",
              "      gap: 12px;\n",
              "    }\n",
              "\n",
              "    .colab-df-convert {\n",
              "      background-color: #E8F0FE;\n",
              "      border: none;\n",
              "      border-radius: 50%;\n",
              "      cursor: pointer;\n",
              "      display: none;\n",
              "      fill: #1967D2;\n",
              "      height: 32px;\n",
              "      padding: 0 0 0 0;\n",
              "      width: 32px;\n",
              "    }\n",
              "\n",
              "    .colab-df-convert:hover {\n",
              "      background-color: #E2EBFA;\n",
              "      box-shadow: 0px 1px 2px rgba(60, 64, 67, 0.3), 0px 1px 3px 1px rgba(60, 64, 67, 0.15);\n",
              "      fill: #174EA6;\n",
              "    }\n",
              "\n",
              "    [theme=dark] .colab-df-convert {\n",
              "      background-color: #3B4455;\n",
              "      fill: #D2E3FC;\n",
              "    }\n",
              "\n",
              "    [theme=dark] .colab-df-convert:hover {\n",
              "      background-color: #434B5C;\n",
              "      box-shadow: 0px 1px 3px 1px rgba(0, 0, 0, 0.15);\n",
              "      filter: drop-shadow(0px 1px 2px rgba(0, 0, 0, 0.3));\n",
              "      fill: #FFFFFF;\n",
              "    }\n",
              "  </style>\n",
              "\n",
              "      <script>\n",
              "        const buttonEl =\n",
              "          document.querySelector('#df-3e4e490d-2618-4d68-ae3f-d2d21778fa14 button.colab-df-convert');\n",
              "        buttonEl.style.display =\n",
              "          google.colab.kernel.accessAllowed ? 'block' : 'none';\n",
              "\n",
              "        async function convertToInteractive(key) {\n",
              "          const element = document.querySelector('#df-3e4e490d-2618-4d68-ae3f-d2d21778fa14');\n",
              "          const dataTable =\n",
              "            await google.colab.kernel.invokeFunction('convertToInteractive',\n",
              "                                                     [key], {});\n",
              "          if (!dataTable) return;\n",
              "\n",
              "          const docLinkHtml = 'Like what you see? Visit the ' +\n",
              "            '<a target=\"_blank\" href=https://colab.research.google.com/notebooks/data_table.ipynb>data table notebook</a>'\n",
              "            + ' to learn more about interactive tables.';\n",
              "          element.innerHTML = '';\n",
              "          dataTable['output_type'] = 'display_data';\n",
              "          await google.colab.output.renderOutput(dataTable, element);\n",
              "          const docLink = document.createElement('div');\n",
              "          docLink.innerHTML = docLinkHtml;\n",
              "          element.appendChild(docLink);\n",
              "        }\n",
              "      </script>\n",
              "    </div>\n",
              "  </div>\n",
              "  "
            ]
          },
          "metadata": {},
          "execution_count": 4
        }
      ]
    },
    {
      "cell_type": "code",
      "source": [
        "msno.bar(dset)"
      ],
      "metadata": {
        "colab": {
          "base_uri": "https://localhost:8080/",
          "height": 640
        },
        "id": "ovWKnBGql4ur",
        "outputId": "4d21b11f-6ffb-4252-bcc8-9fadabf5b220"
      },
      "execution_count": 5,
      "outputs": [
        {
          "output_type": "execute_result",
          "data": {
            "text/plain": [
              "<matplotlib.axes._subplots.AxesSubplot at 0x7ff43a6ca710>"
            ]
          },
          "metadata": {},
          "execution_count": 5
        },
        {
          "output_type": "display_data",
          "data": {
            "text/plain": [
              "<Figure size 1800x720 with 3 Axes>"
            ],
            "image/png": "[encoded data removed]"
          },
          "metadata": {
            "needs_background": "light"
          }
        }
      ]
    },
    {
      "cell_type": "code",
      "source": [
        "dset.info()"
      ],
      "metadata": {
        "colab": {
          "base_uri": "https://localhost:8080/",
          "height": 0
        },
        "id": "LU-F7ltnl7Zz",
        "outputId": "8802cb33-3b68-4ce1-e9b6-a7e3a7b6c601"
      },
      "execution_count": 6,
      "outputs": [
        {
          "output_type": "stream",
          "name": "stdout",
          "text": [
            "<class 'pandas.core.frame.DataFrame'>\n",
            "RangeIndex: 4981 entries, 0 to 4980\n",
            "Data columns (total 11 columns):\n",
            " #   Column             Non-Null Count  Dtype  \n",
            "---  ------             --------------  -----  \n",
            " 0   gender             4981 non-null   object \n",
            " 1   age                4981 non-null   float64\n",
            " 2   hypertension       4981 non-null   int64  \n",
            " 3   heart_disease      4981 non-null   int64  \n",
            " 4   ever_married       4981 non-null   object \n",
            " 5   work_type          4981 non-null   object \n",
            " 6   Residence_type     4981 non-null   object \n",
            " 7   avg_glucose_level  4981 non-null   float64\n",
            " 8   bmi                4981 non-null   float64\n",
            " 9   smoking_status     4981 non-null   object \n",
            " 10  stroke             4981 non-null   int64  \n",
            "dtypes: float64(3), int64(3), object(5)\n",
            "memory usage: 428.2+ KB\n"
          ]
        }
      ]
    },
    {
      "cell_type": "code",
      "source": [
        "h_dset = dset.drop([\"hypertension\",\"heart_disease\",\"gender\",\"ever_married\",\"work_type\",\"Residence_type\",\"stroke\",\"smoking_status\"],axis = 1)\n",
        "\n",
        "h_dset.hist(bins=35, figsize=(20,13))\n",
        "plt.show()"
      ],
      "metadata": {
        "colab": {
          "base_uri": "https://localhost:8080/",
          "height": 771
        },
        "id": "eHFtUoRLl_IT",
        "outputId": "4081c101-47be-4024-c15c-b3528efea363"
      },
      "execution_count": 80,
      "outputs": [
        {
          "output_type": "display_data",
          "data": {
            "text/plain": [
              "<Figure size 1440x936 with 4 Axes>"
            ],
            "image/png": "[encoded data removed]"
          },
          "metadata": {
            "needs_background": "light"
          }
        }
      ]
    },
    {
      "cell_type": "code",
      "source": [
        "print(f\"Skewness: {dset['age'].skew()}\")\n",
        "print(f\"Kurtosis: {dset['age'].kurt()}\")"
      ],
      "metadata": {
        "colab": {
          "base_uri": "https://localhost:8080/",
          "height": 0
        },
        "id": "CSiliJ4m_Reo",
        "outputId": "ed9c4418-ae13-4175-b8c8-3789359b7f78"
      },
      "execution_count": 87,
      "outputs": [
        {
          "output_type": "stream",
          "name": "stdout",
          "text": [
            "Skewness: -0.14400119564600208\n",
            "Kurtosis: -0.9948387710574367\n"
          ]
        }
      ]
    },
    {
      "cell_type": "code",
      "source": [
        "print(f\"Skewness: {dset['bmi'].skew()}\")\n",
        "print(f\"Kurtosis: {dset['bmi'].kurt()}\")"
      ],
      "metadata": {
        "colab": {
          "base_uri": "https://localhost:8080/",
          "height": 0
        },
        "id": "G5Lt7uGQACcE",
        "outputId": "d987a44d-ea58-4173-842a-ea411410ec9f"
      },
      "execution_count": 88,
      "outputs": [
        {
          "output_type": "stream",
          "name": "stdout",
          "text": [
            "Skewness: 0.37155291522876177\n",
            "Kurtosis: -0.13832077359699424\n"
          ]
        }
      ]
    },
    {
      "cell_type": "code",
      "source": [
        "print(f\"Skewness: {dset['avg_glucose_level'].skew()}\")\n",
        "print(f\"Kurtosis: {dset['avg_glucose_level'].kurt()}\")"
      ],
      "metadata": {
        "colab": {
          "base_uri": "https://localhost:8080/",
          "height": 0
        },
        "id": "ZbkycgN2AN4w",
        "outputId": "1cc4930e-68dc-409e-8f53-bc7eb6466fb1"
      },
      "execution_count": 89,
      "outputs": [
        {
          "output_type": "stream",
          "name": "stdout",
          "text": [
            "Skewness: 1.5875258856135788\n",
            "Kurtosis: 1.7526730761547773\n"
          ]
        }
      ]
    },
    {
      "cell_type": "code",
      "source": [
        "h_dset.describe()"
      ],
      "metadata": {
        "colab": {
          "base_uri": "https://localhost:8080/",
          "height": 279
        },
        "id": "QMiN43Wnl9tp",
        "outputId": "7087e26f-9689-416f-e6a8-23b9ee34095c"
      },
      "execution_count": 81,
      "outputs": [
        {
          "output_type": "execute_result",
          "data": {
            "text/plain": [
              "               age  avg_glucose_level          bmi\n",
              "count  4981.000000        4981.000000  4981.000000\n",
              "mean     43.419859         105.943562    28.498173\n",
              "std      22.662755          45.075373     6.790464\n",
              "min       0.080000          55.120000    14.000000\n",
              "25%      25.000000          77.230000    23.700000\n",
              "50%      45.000000          91.850000    28.100000\n",
              "75%      61.000000         113.860000    32.600000\n",
              "max      82.000000         271.740000    48.900000"
            ],
            "text/html": [
              "\n",
              "  <div id=\"df-51adf4c6-60d9-4c7a-8fab-4bfc24eb394d\">\n",
              "    <div class=\"colab-df-container\">\n",
              "      <div>\n",
              "<style scoped>\n",
              "    .dataframe tbody tr th:only-of-type {\n",
              "        vertical-align: middle;\n",
              "    }\n",
              "\n",
              "    .dataframe tbody tr th {\n",
              "        vertical-align: top;\n",
              "    }\n",
              "\n",
              "    .dataframe thead th {\n",
              "        text-align: right;\n",
              "    }\n",
              "</style>\n",
              "<table border=\"1\" class=\"dataframe\">\n",
              "  <thead>\n",
              "    <tr style=\"text-align: right;\">\n",
              "      <th></th>\n",
              "      <th>age</th>\n",
              "      <th>avg_glucose_level</th>\n",
              "      <th>bmi</th>\n",
              "    </tr>\n",
              "  </thead>\n",
              "  <tbody>\n",
              "    <tr>\n",
              "      <th>count</th>\n",
              "      <td>4981.000000</td>\n",
              "      <td>4981.000000</td>\n",
              "      <td>4981.000000</td>\n",
              "    </tr>\n",
              "    <tr>\n",
              "      <th>mean</th>\n",
              "      <td>43.419859</td>\n",
              "      <td>105.943562</td>\n",
              "      <td>28.498173</td>\n",
              "    </tr>\n",
              "    <tr>\n",
              "      <th>std</th>\n",
              "      <td>22.662755</td>\n",
              "      <td>45.075373</td>\n",
              "      <td>6.790464</td>\n",
              "    </tr>\n",
              "    <tr>\n",
              "      <th>min</th>\n",
              "      <td>0.080000</td>\n",
              "      <td>55.120000</td>\n",
              "      <td>14.000000</td>\n",
              "    </tr>\n",
              "    <tr>\n",
              "      <th>25%</th>\n",
              "      <td>25.000000</td>\n",
              "      <td>77.230000</td>\n",
              "      <td>23.700000</td>\n",
              "    </tr>\n",
              "    <tr>\n",
              "      <th>50%</th>\n",
              "      <td>45.000000</td>\n",
              "      <td>91.850000</td>\n",
              "      <td>28.100000</td>\n",
              "    </tr>\n",
              "    <tr>\n",
              "      <th>75%</th>\n",
              "      <td>61.000000</td>\n",
              "      <td>113.860000</td>\n",
              "      <td>32.600000</td>\n",
              "    </tr>\n",
              "    <tr>\n",
              "      <th>max</th>\n",
              "      <td>82.000000</td>\n",
              "      <td>271.740000</td>\n",
              "      <td>48.900000</td>\n",
              "    </tr>\n",
              "  </tbody>\n",
              "</table>\n",
              "</div>\n",
              "      <button class=\"colab-df-convert\" onclick=\"convertToInteractive('df-51adf4c6-60d9-4c7a-8fab-4bfc24eb394d')\"\n",
              "              title=\"Convert this dataframe to an interactive table.\"\n",
              "              style=\"display:none;\">\n",
              "        \n",
              "  <svg xmlns=\"http://www.w3.org/2000/svg\" height=\"24px\"viewBox=\"0 0 24 24\"\n",
              "       width=\"24px\">\n",
              "    <path d=\"M0 0h24v24H0V0z\" fill=\"none\"/>\n",
              "    <path d=\"M18.56 5.44l.94 2.06.94-2.06 2.06-.94-2.06-.94-.94-2.06-.94 2.06-2.06.94zm-11 1L8.5 8.5l.94-2.06 2.06-.94-2.06-.94L8.5 2.5l-.94 2.06-2.06.94zm10 10l.94 2.06.94-2.06 2.06-.94-2.06-.94-.94-2.06-.94 2.06-2.06.94z\"/><path d=\"M17.41 7.96l-1.37-1.37c-.4-.4-.92-.59-1.43-.59-.52 0-1.04.2-1.43.59L10.3 9.45l-7.72 7.72c-.78.78-.78 2.05 0 2.83L4 21.41c.39.39.9.59 1.41.59.51 0 1.02-.2 1.41-.59l7.78-7.78 2.81-2.81c.8-.78.8-2.07 0-2.86zM5.41 20L4 18.59l7.72-7.72 1.47 1.35L5.41 20z\"/>\n",
              "  </svg>\n",
              "      </button>\n",
              "      \n",
              "  <style>\n",
              "    .colab-df-container {\n",
              "      display:flex;\n",
              "      flex-wrap:wrap;\n",
              "      gap: 12px;\n",
              "    }\n",
              "\n",
              "    .colab-df-convert {\n",
              "      background-color: #E8F0FE;\n",
              "      border: none;\n",
              "      border-radius: 50%;\n",
              "      cursor: pointer;\n",
              "      display: none;\n",
              "      fill: #1967D2;\n",
              "      height: 32px;\n",
              "      padding: 0 0 0 0;\n",
              "      width: 32px;\n",
              "    }\n",
              "\n",
              "    .colab-df-convert:hover {\n",
              "      background-color: #E2EBFA;\n",
              "      box-shadow: 0px 1px 2px rgba(60, 64, 67, 0.3), 0px 1px 3px 1px rgba(60, 64, 67, 0.15);\n",
              "      fill: #174EA6;\n",
              "    }\n",
              "\n",
              "    [theme=dark] .colab-df-convert {\n",
              "      background-color: #3B4455;\n",
              "      fill: #D2E3FC;\n",
              "    }\n",
              "\n",
              "    [theme=dark] .colab-df-convert:hover {\n",
              "      background-color: #434B5C;\n",
              "      box-shadow: 0px 1px 3px 1px rgba(0, 0, 0, 0.15);\n",
              "      filter: drop-shadow(0px 1px 2px rgba(0, 0, 0, 0.3));\n",
              "      fill: #FFFFFF;\n",
              "    }\n",
              "  </style>\n",
              "\n",
              "      <script>\n",
              "        const buttonEl =\n",
              "          document.querySelector('#df-51adf4c6-60d9-4c7a-8fab-4bfc24eb394d button.colab-df-convert');\n",
              "        buttonEl.style.display =\n",
              "          google.colab.kernel.accessAllowed ? 'block' : 'none';\n",
              "\n",
              "        async function convertToInteractive(key) {\n",
              "          const element = document.querySelector('#df-51adf4c6-60d9-4c7a-8fab-4bfc24eb394d');\n",
              "          const dataTable =\n",
              "            await google.colab.kernel.invokeFunction('convertToInteractive',\n",
              "                                                     [key], {});\n",
              "          if (!dataTable) return;\n",
              "\n",
              "          const docLinkHtml = 'Like what you see? Visit the ' +\n",
              "            '<a target=\"_blank\" href=https://colab.research.google.com/notebooks/data_table.ipynb>data table notebook</a>'\n",
              "            + ' to learn more about interactive tables.';\n",
              "          element.innerHTML = '';\n",
              "          dataTable['output_type'] = 'display_data';\n",
              "          await google.colab.output.renderOutput(dataTable, element);\n",
              "          const docLink = document.createElement('div');\n",
              "          docLink.innerHTML = docLinkHtml;\n",
              "          element.appendChild(docLink);\n",
              "        }\n",
              "      </script>\n",
              "    </div>\n",
              "  </div>\n",
              "  "
            ]
          },
          "metadata": {},
          "execution_count": 81
        }
      ]
    },
    {
      "cell_type": "code",
      "source": [
        "clean_cat = {\"gender\": {\"Male\":0, \"Female\": 1}, \"ever_married\": {\"No\":0,\"Yes\":1}, \"work_type\": {\"Private\":0, \"Govt_job\":1, \"Self-employed\":2, \"children\":3, \"Neverworked\":4}, \"Residence_type\": {\"Rural\":0, \"Urban\":1}, \"smoking_status\": {\"never smoked\":0, \"Unknown\":1,\"formerly smoked\":2, \"smokes\":3}}\n",
        "\n",
        "dset = dset.replace(clean_cat)\n",
        "\n",
        "dset.head()"
      ],
      "metadata": {
        "colab": {
          "base_uri": "https://localhost:8080/",
          "height": 215
        },
        "id": "o8d4jgOdoaJ_",
        "outputId": "dcda594b-6e5b-4b15-dfb5-4bbfa3353448"
      },
      "execution_count": 12,
      "outputs": [
        {
          "output_type": "execute_result",
          "data": {
            "text/plain": [
              "   gender   age  hypertension  heart_disease  ever_married  work_type  \\\n",
              "0       0  67.0             0              1             1          0   \n",
              "1       0  80.0             0              1             1          0   \n",
              "2       1  49.0             0              0             1          0   \n",
              "3       1  79.0             1              0             1          2   \n",
              "4       0  81.0             0              0             1          0   \n",
              "\n",
              "   Residence_type  avg_glucose_level   bmi  smoking_status  stroke  \n",
              "0               1             228.69  36.6               2       1  \n",
              "1               0             105.92  32.5               0       1  \n",
              "2               1             171.23  34.4               3       1  \n",
              "3               0             174.12  24.0               0       1  \n",
              "4               1             186.21  29.0               2       1  "
            ],
            "text/html": [
              "\n",
              "  <div id=\"df-fbbd92b4-1caa-44ca-8d67-2eb81b249c6c\">\n",
              "    <div class=\"colab-df-container\">\n",
              "      <div>\n",
              "<style scoped>\n",
              "    .dataframe tbody tr th:only-of-type {\n",
              "        vertical-align: middle;\n",
              "    }\n",
              "\n",
              "    .dataframe tbody tr th {\n",
              "        vertical-align: top;\n",
              "    }\n",
              "\n",
              "    .dataframe thead th {\n",
              "        text-align: right;\n",
              "    }\n",
              "</style>\n",
              "<table border=\"1\" class=\"dataframe\">\n",
              "  <thead>\n",
              "    <tr style=\"text-align: right;\">\n",
              "      <th></th>\n",
              "      <th>gender</th>\n",
              "      <th>age</th>\n",
              "      <th>hypertension</th>\n",
              "      <th>heart_disease</th>\n",
              "      <th>ever_married</th>\n",
              "      <th>work_type</th>\n",
              "      <th>Residence_type</th>\n",
              "      <th>avg_glucose_level</th>\n",
              "      <th>bmi</th>\n",
              "      <th>smoking_status</th>\n",
              "      <th>stroke</th>\n",
              "    </tr>\n",
              "  </thead>\n",
              "  <tbody>\n",
              "    <tr>\n",
              "      <th>0</th>\n",
              "      <td>0</td>\n",
              "      <td>67.0</td>\n",
              "      <td>0</td>\n",
              "      <td>1</td>\n",
              "      <td>1</td>\n",
              "      <td>0</td>\n",
              "      <td>1</td>\n",
              "      <td>228.69</td>\n",
              "      <td>36.6</td>\n",
              "      <td>2</td>\n",
              "      <td>1</td>\n",
              "    </tr>\n",
              "    <tr>\n",
              "      <th>1</th>\n",
              "      <td>0</td>\n",
              "      <td>80.0</td>\n",
              "      <td>0</td>\n",
              "      <td>1</td>\n",
              "      <td>1</td>\n",
              "      <td>0</td>\n",
              "      <td>0</td>\n",
              "      <td>105.92</td>\n",
              "      <td>32.5</td>\n",
              "      <td>0</td>\n",
              "      <td>1</td>\n",
              "    </tr>\n",
              "    <tr>\n",
              "      <th>2</th>\n",
              "      <td>1</td>\n",
              "      <td>49.0</td>\n",
              "      <td>0</td>\n",
              "      <td>0</td>\n",
              "      <td>1</td>\n",
              "      <td>0</td>\n",
              "      <td>1</td>\n",
              "      <td>171.23</td>\n",
              "      <td>34.4</td>\n",
              "      <td>3</td>\n",
              "      <td>1</td>\n",
              "    </tr>\n",
              "    <tr>\n",
              "      <th>3</th>\n",
              "      <td>1</td>\n",
              "      <td>79.0</td>\n",
              "      <td>1</td>\n",
              "      <td>0</td>\n",
              "      <td>1</td>\n",
              "      <td>2</td>\n",
              "      <td>0</td>\n",
              "      <td>174.12</td>\n",
              "      <td>24.0</td>\n",
              "      <td>0</td>\n",
              "      <td>1</td>\n",
              "    </tr>\n",
              "    <tr>\n",
              "      <th>4</th>\n",
              "      <td>0</td>\n",
              "      <td>81.0</td>\n",
              "      <td>0</td>\n",
              "      <td>0</td>\n",
              "      <td>1</td>\n",
              "      <td>0</td>\n",
              "      <td>1</td>\n",
              "      <td>186.21</td>\n",
              "      <td>29.0</td>\n",
              "      <td>2</td>\n",
              "      <td>1</td>\n",
              "    </tr>\n",
              "  </tbody>\n",
              "</table>\n",
              "</div>\n",
              "      <button class=\"colab-df-convert\" onclick=\"convertToInteractive('df-fbbd92b4-1caa-44ca-8d67-2eb81b249c6c')\"\n",
              "              title=\"Convert this dataframe to an interactive table.\"\n",
              "              style=\"display:none;\">\n",
              "        \n",
              "  <svg xmlns=\"http://www.w3.org/2000/svg\" height=\"24px\"viewBox=\"0 0 24 24\"\n",
              "       width=\"24px\">\n",
              "    <path d=\"M0 0h24v24H0V0z\" fill=\"none\"/>\n",
              "    <path d=\"M18.56 5.44l.94 2.06.94-2.06 2.06-.94-2.06-.94-.94-2.06-.94 2.06-2.06.94zm-11 1L8.5 8.5l.94-2.06 2.06-.94-2.06-.94L8.5 2.5l-.94 2.06-2.06.94zm10 10l.94 2.06.94-2.06 2.06-.94-2.06-.94-.94-2.06-.94 2.06-2.06.94z\"/><path d=\"M17.41 7.96l-1.37-1.37c-.4-.4-.92-.59-1.43-.59-.52 0-1.04.2-1.43.59L10.3 9.45l-7.72 7.72c-.78.78-.78 2.05 0 2.83L4 21.41c.39.39.9.59 1.41.59.51 0 1.02-.2 1.41-.59l7.78-7.78 2.81-2.81c.8-.78.8-2.07 0-2.86zM5.41 20L4 18.59l7.72-7.72 1.47 1.35L5.41 20z\"/>\n",
              "  </svg>\n",
              "      </button>\n",
              "      \n",
              "  <style>\n",
              "    .colab-df-container {\n",
              "      display:flex;\n",
              "      flex-wrap:wrap;\n",
              "      gap: 12px;\n",
              "    }\n",
              "\n",
              "    .colab-df-convert {\n",
              "      background-color: #E8F0FE;\n",
              "      border: none;\n",
              "      border-radius: 50%;\n",
              "      cursor: pointer;\n",
              "      display: none;\n",
              "      fill: #1967D2;\n",
              "      height: 32px;\n",
              "      padding: 0 0 0 0;\n",
              "      width: 32px;\n",
              "    }\n",
              "\n",
              "    .colab-df-convert:hover {\n",
              "      background-color: #E2EBFA;\n",
              "      box-shadow: 0px 1px 2px rgba(60, 64, 67, 0.3), 0px 1px 3px 1px rgba(60, 64, 67, 0.15);\n",
              "      fill: #174EA6;\n",
              "    }\n",
              "\n",
              "    [theme=dark] .colab-df-convert {\n",
              "      background-color: #3B4455;\n",
              "      fill: #D2E3FC;\n",
              "    }\n",
              "\n",
              "    [theme=dark] .colab-df-convert:hover {\n",
              "      background-color: #434B5C;\n",
              "      box-shadow: 0px 1px 3px 1px rgba(0, 0, 0, 0.15);\n",
              "      filter: drop-shadow(0px 1px 2px rgba(0, 0, 0, 0.3));\n",
              "      fill: #FFFFFF;\n",
              "    }\n",
              "  </style>\n",
              "\n",
              "      <script>\n",
              "        const buttonEl =\n",
              "          document.querySelector('#df-fbbd92b4-1caa-44ca-8d67-2eb81b249c6c button.colab-df-convert');\n",
              "        buttonEl.style.display =\n",
              "          google.colab.kernel.accessAllowed ? 'block' : 'none';\n",
              "\n",
              "        async function convertToInteractive(key) {\n",
              "          const element = document.querySelector('#df-fbbd92b4-1caa-44ca-8d67-2eb81b249c6c');\n",
              "          const dataTable =\n",
              "            await google.colab.kernel.invokeFunction('convertToInteractive',\n",
              "                                                     [key], {});\n",
              "          if (!dataTable) return;\n",
              "\n",
              "          const docLinkHtml = 'Like what you see? Visit the ' +\n",
              "            '<a target=\"_blank\" href=https://colab.research.google.com/notebooks/data_table.ipynb>data table notebook</a>'\n",
              "            + ' to learn more about interactive tables.';\n",
              "          element.innerHTML = '';\n",
              "          dataTable['output_type'] = 'display_data';\n",
              "          await google.colab.output.renderOutput(dataTable, element);\n",
              "          const docLink = document.createElement('div');\n",
              "          docLink.innerHTML = docLinkHtml;\n",
              "          element.appendChild(docLink);\n",
              "        }\n",
              "      </script>\n",
              "    </div>\n",
              "  </div>\n",
              "  "
            ]
          },
          "metadata": {},
          "execution_count": 12
        }
      ]
    },
    {
      "cell_type": "code",
      "source": [
        "dset[\"gender\"].value_counts()"
      ],
      "metadata": {
        "colab": {
          "base_uri": "https://localhost:8080/",
          "height": 0
        },
        "id": "U7vG8qIh4NWR",
        "outputId": "6b88ec85-5d9c-4b56-99eb-e2068064dfc6"
      },
      "execution_count": 69,
      "outputs": [
        {
          "output_type": "execute_result",
          "data": {
            "text/plain": [
              "1    2907\n",
              "0    2074\n",
              "Name: gender, dtype: int64"
            ]
          },
          "metadata": {},
          "execution_count": 69
        }
      ]
    },
    {
      "cell_type": "code",
      "source": [
        "dset[\"gender\"].value_counts(normalize = True)"
      ],
      "metadata": {
        "colab": {
          "base_uri": "https://localhost:8080/",
          "height": 0
        },
        "id": "EDdVUnSX269I",
        "outputId": "b659ad37-a7bc-438c-e880-8a938f6aa2e4"
      },
      "execution_count": 70,
      "outputs": [
        {
          "output_type": "execute_result",
          "data": {
            "text/plain": [
              "1    0.583618\n",
              "0    0.416382\n",
              "Name: gender, dtype: float64"
            ]
          },
          "metadata": {},
          "execution_count": 70
        }
      ]
    },
    {
      "cell_type": "code",
      "source": [
        "\n",
        "dset[\"gender\"].value_counts().plot(kind=\"bar\")\n",
        "plt.title(\"Gender\")\n",
        "plt.xlabel(\"Values\")\n",
        "plt.xticks(rotation=0)\n",
        "plt.ylabel(\"Frequency\")\n",
        "plt.show()"
      ],
      "metadata": {
        "colab": {
          "base_uri": "https://localhost:8080/",
          "height": 295
        },
        "id": "9OQaEHbX06uP",
        "outputId": "d43992f3-0e0f-4734-bda1-f7e89e41d330"
      },
      "execution_count": 62,
      "outputs": [
        {
          "output_type": "display_data",
          "data": {
            "text/plain": [
              "<Figure size 432x288 with 1 Axes>"
            ],
            "image/png": "[encoded data removed]"
          },
          "metadata": {
            "needs_background": "light"
          }
        }
      ]
    },
    {
      "cell_type": "code",
      "source": [
        "dset[\"stroke\"].value_counts()"
      ],
      "metadata": {
        "colab": {
          "base_uri": "https://localhost:8080/",
          "height": 0
        },
        "id": "N9v_VFtv2_1j",
        "outputId": "21cb5df5-aec2-4c73-815c-7d145a7bcd6e"
      },
      "execution_count": 60,
      "outputs": [
        {
          "output_type": "execute_result",
          "data": {
            "text/plain": [
              "0    4733\n",
              "1     248\n",
              "Name: stroke, dtype: int64"
            ]
          },
          "metadata": {},
          "execution_count": 60
        }
      ]
    },
    {
      "cell_type": "code",
      "source": [
        "dset[\"stroke\"].value_counts(normalize = True)"
      ],
      "metadata": {
        "colab": {
          "base_uri": "https://localhost:8080/",
          "height": 0
        },
        "id": "lbpjypKk4TWR",
        "outputId": "45bda9eb-1463-43f0-de7e-402e7ea5e5e2"
      },
      "execution_count": 71,
      "outputs": [
        {
          "output_type": "execute_result",
          "data": {
            "text/plain": [
              "0    0.950211\n",
              "1    0.049789\n",
              "Name: stroke, dtype: float64"
            ]
          },
          "metadata": {},
          "execution_count": 71
        }
      ]
    },
    {
      "cell_type": "code",
      "source": [
        "\n",
        "dset[\"stroke\"].value_counts().plot(kind=\"pie\")\n",
        "plt.title(\"Strokes vs No Strokes\")\n",
        "plt.xlabel(\"Values\")\n",
        "plt.xticks(rotation=0)\n",
        "plt.ylabel(\"Frequency\")\n",
        "plt.show()"
      ],
      "metadata": {
        "colab": {
          "base_uri": "https://localhost:8080/",
          "height": 278
        },
        "id": "ZzDsL6rh1Qb3",
        "outputId": "a1b7cad2-1632-48c1-b913-3c05077024f0"
      },
      "execution_count": 66,
      "outputs": [
        {
          "output_type": "display_data",
          "data": {
            "text/plain": [
              "<Figure size 432x288 with 1 Axes>"
            ],
            "image/png": "[encoded data removed]"
          },
          "metadata": {}
        }
      ]
    },
    {
      "cell_type": "code",
      "source": [
        "dset[\"ever_married\"].value_counts()"
      ],
      "metadata": {
        "colab": {
          "base_uri": "https://localhost:8080/",
          "height": 0
        },
        "id": "O8aVjqTU1YMf",
        "outputId": "b607cf3a-88e7-4805-b82e-6f1922895a3d"
      },
      "execution_count": 52,
      "outputs": [
        {
          "output_type": "execute_result",
          "data": {
            "text/plain": [
              "1    3280\n",
              "0    1701\n",
              "Name: ever_married, dtype: int64"
            ]
          },
          "metadata": {},
          "execution_count": 52
        }
      ]
    },
    {
      "cell_type": "code",
      "source": [
        "dset[\"ever_married\"].value_counts(normalize = True)"
      ],
      "metadata": {
        "colab": {
          "base_uri": "https://localhost:8080/",
          "height": 0
        },
        "id": "_whyNzQu4Wck",
        "outputId": "9f4c021c-cb6c-40d0-f120-07dbff4243d2"
      },
      "execution_count": 72,
      "outputs": [
        {
          "output_type": "execute_result",
          "data": {
            "text/plain": [
              "1    0.658502\n",
              "0    0.341498\n",
              "Name: ever_married, dtype: float64"
            ]
          },
          "metadata": {},
          "execution_count": 72
        }
      ]
    },
    {
      "cell_type": "code",
      "source": [
        "dset[\"ever_married\"].value_counts().plot(kind=\"bar\")\n",
        "plt.title(\"Ever Married\")\n",
        "plt.xlabel(\"Values\")\n",
        "plt.xticks(rotation=0)\n",
        "plt.ylabel(\"Frequency\")\n",
        "plt.show()"
      ],
      "metadata": {
        "colab": {
          "base_uri": "https://localhost:8080/",
          "height": 295
        },
        "id": "uEGgGuNU3JVW",
        "outputId": "d129a39e-7df2-4e54-e460-93db6ee0bbcf"
      },
      "execution_count": 63,
      "outputs": [
        {
          "output_type": "display_data",
          "data": {
            "text/plain": [
              "<Figure size 432x288 with 1 Axes>"
            ],
            "image/png": "[encoded data removed]"
          },
          "metadata": {
            "needs_background": "light"
          }
        }
      ]
    },
    {
      "cell_type": "code",
      "source": [
        "dset[\"smoking_status\"].value_counts()"
      ],
      "metadata": {
        "colab": {
          "base_uri": "https://localhost:8080/",
          "height": 0
        },
        "id": "0cYFnQ1o14oI",
        "outputId": "c4db8bc7-909d-47b2-8d91-d79c92fac863"
      },
      "execution_count": 53,
      "outputs": [
        {
          "output_type": "execute_result",
          "data": {
            "text/plain": [
              "0    1838\n",
              "1    1500\n",
              "2     867\n",
              "3     776\n",
              "Name: smoking_status, dtype: int64"
            ]
          },
          "metadata": {},
          "execution_count": 53
        }
      ]
    },
    {
      "cell_type": "code",
      "source": [
        "dset[\"smoking_status\"].value_counts(normalize = True)"
      ],
      "metadata": {
        "colab": {
          "base_uri": "https://localhost:8080/",
          "height": 0
        },
        "id": "eRazpQOT4Z5D",
        "outputId": "8aeecc9a-0c82-43ce-d8b1-3bac5250e326"
      },
      "execution_count": 73,
      "outputs": [
        {
          "output_type": "execute_result",
          "data": {
            "text/plain": [
              "0    0.369002\n",
              "1    0.301144\n",
              "2    0.174061\n",
              "3    0.155792\n",
              "Name: smoking_status, dtype: float64"
            ]
          },
          "metadata": {},
          "execution_count": 73
        }
      ]
    },
    {
      "cell_type": "code",
      "source": [
        "dset[\"smoking_status\"].value_counts().plot(kind=\"pie\")\n",
        "plt.title(\"Smoking Status\")\n",
        "plt.xlabel(\"Values\")\n",
        "plt.xticks(rotation=0)\n",
        "plt.ylabel(\"Frequency\")\n",
        "plt.show()"
      ],
      "metadata": {
        "colab": {
          "base_uri": "https://localhost:8080/",
          "height": 278
        },
        "id": "YNqv-Cgv3VaS",
        "outputId": "cef3d3b9-e5d4-48ce-e10d-8fca671af43a"
      },
      "execution_count": 67,
      "outputs": [
        {
          "output_type": "display_data",
          "data": {
            "text/plain": [
              "<Figure size 432x288 with 1 Axes>"
            ],
            "image/png": "[encoded data removed]"
          },
          "metadata": {}
        }
      ]
    },
    {
      "cell_type": "code",
      "source": [
        "dset[\"heart_disease\"].value_counts()"
      ],
      "metadata": {
        "colab": {
          "base_uri": "https://localhost:8080/",
          "height": 0
        },
        "id": "ZC6UBvXm2DT2",
        "outputId": "d3e538ef-c672-49ea-e982-5ff180528ba5"
      },
      "execution_count": 54,
      "outputs": [
        {
          "output_type": "execute_result",
          "data": {
            "text/plain": [
              "0    4706\n",
              "1     275\n",
              "Name: heart_disease, dtype: int64"
            ]
          },
          "metadata": {},
          "execution_count": 54
        }
      ]
    },
    {
      "cell_type": "code",
      "source": [
        "dset[\"heart_disease\"].value_counts(normalize = True)"
      ],
      "metadata": {
        "colab": {
          "base_uri": "https://localhost:8080/",
          "height": 0
        },
        "id": "nmYH3EMz4dM_",
        "outputId": "169c386f-835f-4b91-cc57-d942136ec4ce"
      },
      "execution_count": 74,
      "outputs": [
        {
          "output_type": "execute_result",
          "data": {
            "text/plain": [
              "0    0.94479\n",
              "1    0.05521\n",
              "Name: heart_disease, dtype: float64"
            ]
          },
          "metadata": {},
          "execution_count": 74
        }
      ]
    },
    {
      "cell_type": "code",
      "source": [
        "dset[\"heart_disease\"].value_counts().plot(kind=\"bar\")\n",
        "plt.title(\"Heart Disease\")\n",
        "plt.xlabel(\"Values\")\n",
        "plt.xticks(rotation=0)\n",
        "plt.ylabel(\"Frequency\")\n",
        "plt.show()"
      ],
      "metadata": {
        "colab": {
          "base_uri": "https://localhost:8080/",
          "height": 295
        },
        "id": "PACUUH4p3iPs",
        "outputId": "d9cf1587-b650-4f5e-9ff9-e1d4856b16f6"
      },
      "execution_count": 65,
      "outputs": [
        {
          "output_type": "display_data",
          "data": {
            "text/plain": [
              "<Figure size 432x288 with 1 Axes>"
            ],
            "image/png": "[encoded data removed]"
          },
          "metadata": {
            "needs_background": "light"
          }
        }
      ]
    },
    {
      "cell_type": "code",
      "source": [
        "cor = dset.corr()\n",
        "cor"
      ],
      "metadata": {
        "colab": {
          "base_uri": "https://localhost:8080/",
          "height": 458
        },
        "id": "CnhHW0dComOT",
        "outputId": "799e9850-9609-49b8-efcd-dc4251c2d182"
      },
      "execution_count": 13,
      "outputs": [
        {
          "output_type": "execute_result",
          "data": {
            "text/plain": [
              "                     gender       age  hypertension  heart_disease  \\\n",
              "gender             1.000000  0.026538     -0.021485      -0.086476   \n",
              "age                0.026538  1.000000      0.278120       0.264852   \n",
              "hypertension      -0.021485  0.278120      1.000000       0.111974   \n",
              "heart_disease     -0.086476  0.264852      0.111974       1.000000   \n",
              "ever_married       0.028971  0.677137      0.164534       0.114765   \n",
              "work_type         -0.058015 -0.330243     -0.040547      -0.027299   \n",
              "Residence_type     0.004301  0.017155     -0.004755       0.002125   \n",
              "avg_glucose_level -0.055796  0.236763      0.170028       0.166847   \n",
              "bmi                0.012093  0.373703      0.158762       0.060926   \n",
              "smoking_status    -0.070968  0.075962      0.011498       0.063801   \n",
              "stroke            -0.008870  0.246478      0.131965       0.134610   \n",
              "\n",
              "                   ever_married  work_type  Residence_type  avg_glucose_level  \\\n",
              "gender                 0.028971  -0.058015        0.004301          -0.055796   \n",
              "age                    0.677137  -0.330243        0.017155           0.236763   \n",
              "hypertension           0.164534  -0.040547       -0.004755           0.170028   \n",
              "heart_disease          0.114765  -0.027299        0.002125           0.166847   \n",
              "ever_married           1.000000  -0.336418        0.008191           0.150724   \n",
              "work_type             -0.336418   1.000000        0.008570          -0.052189   \n",
              "Residence_type         0.008191   0.008570        1.000000           0.001346   \n",
              "avg_glucose_level      0.150724  -0.052189        0.001346           1.000000   \n",
              "bmi                    0.371690  -0.360820        0.013185           0.186348   \n",
              "smoking_status         0.085733  -0.043752        0.036155           0.024620   \n",
              "stroke                 0.108398  -0.035953        0.016494           0.133227   \n",
              "\n",
              "                        bmi  smoking_status    stroke  \n",
              "gender             0.012093       -0.070968 -0.008870  \n",
              "age                0.373703        0.075962  0.246478  \n",
              "hypertension       0.158762        0.011498  0.131965  \n",
              "heart_disease      0.060926        0.063801  0.134610  \n",
              "ever_married       0.371690        0.085733  0.108398  \n",
              "work_type         -0.360820       -0.043752 -0.035953  \n",
              "Residence_type     0.013185        0.036155  0.016494  \n",
              "avg_glucose_level  0.186348        0.024620  0.133227  \n",
              "bmi                1.000000        0.061339  0.056926  \n",
              "smoking_status     0.061339        1.000000  0.031013  \n",
              "stroke             0.056926        0.031013  1.000000  "
            ],
            "text/html": [
              "\n",
              "  <div id=\"df-e97455eb-675e-42e9-b3b8-ca8dba50c630\">\n",
              "    <div class=\"colab-df-container\">\n",
              "      <div>\n",
              "<style scoped>\n",
              "    .dataframe tbody tr th:only-of-type {\n",
              "        vertical-align: middle;\n",
              "    }\n",
              "\n",
              "    .dataframe tbody tr th {\n",
              "        vertical-align: top;\n",
              "    }\n",
              "\n",
              "    .dataframe thead th {\n",
              "        text-align: right;\n",
              "    }\n",
              "</style>\n",
              "<table border=\"1\" class=\"dataframe\">\n",
              "  <thead>\n",
              "    <tr style=\"text-align: right;\">\n",
              "      <th></th>\n",
              "      <th>gender</th>\n",
              "      <th>age</th>\n",
              "      <th>hypertension</th>\n",
              "      <th>heart_disease</th>\n",
              "      <th>ever_married</th>\n",
              "      <th>work_type</th>\n",
              "      <th>Residence_type</th>\n",
              "      <th>avg_glucose_level</th>\n",
              "      <th>bmi</th>\n",
              "      <th>smoking_status</th>\n",
              "      <th>stroke</th>\n",
              "    </tr>\n",
              "  </thead>\n",
              "  <tbody>\n",
              "    <tr>\n",
              "      <th>gender</th>\n",
              "      <td>1.000000</td>\n",
              "      <td>0.026538</td>\n",
              "      <td>-0.021485</td>\n",
              "      <td>-0.086476</td>\n",
              "      <td>0.028971</td>\n",
              "      <td>-0.058015</td>\n",
              "      <td>0.004301</td>\n",
              "      <td>-0.055796</td>\n",
              "      <td>0.012093</td>\n",
              "      <td>-0.070968</td>\n",
              "      <td>-0.008870</td>\n",
              "    </tr>\n",
              "    <tr>\n",
              "      <th>age</th>\n",
              "      <td>0.026538</td>\n",
              "      <td>1.000000</td>\n",
              "      <td>0.278120</td>\n",
              "      <td>0.264852</td>\n",
              "      <td>0.677137</td>\n",
              "      <td>-0.330243</td>\n",
              "      <td>0.017155</td>\n",
              "      <td>0.236763</td>\n",
              "      <td>0.373703</td>\n",
              "      <td>0.075962</td>\n",
              "      <td>0.246478</td>\n",
              "    </tr>\n",
              "    <tr>\n",
              "      <th>hypertension</th>\n",
              "      <td>-0.021485</td>\n",
              "      <td>0.278120</td>\n",
              "      <td>1.000000</td>\n",
              "      <td>0.111974</td>\n",
              "      <td>0.164534</td>\n",
              "      <td>-0.040547</td>\n",
              "      <td>-0.004755</td>\n",
              "      <td>0.170028</td>\n",
              "      <td>0.158762</td>\n",
              "      <td>0.011498</td>\n",
              "      <td>0.131965</td>\n",
              "    </tr>\n",
              "    <tr>\n",
              "      <th>heart_disease</th>\n",
              "      <td>-0.086476</td>\n",
              "      <td>0.264852</td>\n",
              "      <td>0.111974</td>\n",
              "      <td>1.000000</td>\n",
              "      <td>0.114765</td>\n",
              "      <td>-0.027299</td>\n",
              "      <td>0.002125</td>\n",
              "      <td>0.166847</td>\n",
              "      <td>0.060926</td>\n",
              "      <td>0.063801</td>\n",
              "      <td>0.134610</td>\n",
              "    </tr>\n",
              "    <tr>\n",
              "      <th>ever_married</th>\n",
              "      <td>0.028971</td>\n",
              "      <td>0.677137</td>\n",
              "      <td>0.164534</td>\n",
              "      <td>0.114765</td>\n",
              "      <td>1.000000</td>\n",
              "      <td>-0.336418</td>\n",
              "      <td>0.008191</td>\n",
              "      <td>0.150724</td>\n",
              "      <td>0.371690</td>\n",
              "      <td>0.085733</td>\n",
              "      <td>0.108398</td>\n",
              "    </tr>\n",
              "    <tr>\n",
              "      <th>work_type</th>\n",
              "      <td>-0.058015</td>\n",
              "      <td>-0.330243</td>\n",
              "      <td>-0.040547</td>\n",
              "      <td>-0.027299</td>\n",
              "      <td>-0.336418</td>\n",
              "      <td>1.000000</td>\n",
              "      <td>0.008570</td>\n",
              "      <td>-0.052189</td>\n",
              "      <td>-0.360820</td>\n",
              "      <td>-0.043752</td>\n",
              "      <td>-0.035953</td>\n",
              "    </tr>\n",
              "    <tr>\n",
              "      <th>Residence_type</th>\n",
              "      <td>0.004301</td>\n",
              "      <td>0.017155</td>\n",
              "      <td>-0.004755</td>\n",
              "      <td>0.002125</td>\n",
              "      <td>0.008191</td>\n",
              "      <td>0.008570</td>\n",
              "      <td>1.000000</td>\n",
              "      <td>0.001346</td>\n",
              "      <td>0.013185</td>\n",
              "      <td>0.036155</td>\n",
              "      <td>0.016494</td>\n",
              "    </tr>\n",
              "    <tr>\n",
              "      <th>avg_glucose_level</th>\n",
              "      <td>-0.055796</td>\n",
              "      <td>0.236763</td>\n",
              "      <td>0.170028</td>\n",
              "      <td>0.166847</td>\n",
              "      <td>0.150724</td>\n",
              "      <td>-0.052189</td>\n",
              "      <td>0.001346</td>\n",
              "      <td>1.000000</td>\n",
              "      <td>0.186348</td>\n",
              "      <td>0.024620</td>\n",
              "      <td>0.133227</td>\n",
              "    </tr>\n",
              "    <tr>\n",
              "      <th>bmi</th>\n",
              "      <td>0.012093</td>\n",
              "      <td>0.373703</td>\n",
              "      <td>0.158762</td>\n",
              "      <td>0.060926</td>\n",
              "      <td>0.371690</td>\n",
              "      <td>-0.360820</td>\n",
              "      <td>0.013185</td>\n",
              "      <td>0.186348</td>\n",
              "      <td>1.000000</td>\n",
              "      <td>0.061339</td>\n",
              "      <td>0.056926</td>\n",
              "    </tr>\n",
              "    <tr>\n",
              "      <th>smoking_status</th>\n",
              "      <td>-0.070968</td>\n",
              "      <td>0.075962</td>\n",
              "      <td>0.011498</td>\n",
              "      <td>0.063801</td>\n",
              "      <td>0.085733</td>\n",
              "      <td>-0.043752</td>\n",
              "      <td>0.036155</td>\n",
              "      <td>0.024620</td>\n",
              "      <td>0.061339</td>\n",
              "      <td>1.000000</td>\n",
              "      <td>0.031013</td>\n",
              "    </tr>\n",
              "    <tr>\n",
              "      <th>stroke</th>\n",
              "      <td>-0.008870</td>\n",
              "      <td>0.246478</td>\n",
              "      <td>0.131965</td>\n",
              "      <td>0.134610</td>\n",
              "      <td>0.108398</td>\n",
              "      <td>-0.035953</td>\n",
              "      <td>0.016494</td>\n",
              "      <td>0.133227</td>\n",
              "      <td>0.056926</td>\n",
              "      <td>0.031013</td>\n",
              "      <td>1.000000</td>\n",
              "    </tr>\n",
              "  </tbody>\n",
              "</table>\n",
              "</div>\n",
              "      <button class=\"colab-df-convert\" onclick=\"convertToInteractive('df-e97455eb-675e-42e9-b3b8-ca8dba50c630')\"\n",
              "              title=\"Convert this dataframe to an interactive table.\"\n",
              "              style=\"display:none;\">\n",
              "        \n",
              "  <svg xmlns=\"http://www.w3.org/2000/svg\" height=\"24px\"viewBox=\"0 0 24 24\"\n",
              "       width=\"24px\">\n",
              "    <path d=\"M0 0h24v24H0V0z\" fill=\"none\"/>\n",
              "    <path d=\"M18.56 5.44l.94 2.06.94-2.06 2.06-.94-2.06-.94-.94-2.06-.94 2.06-2.06.94zm-11 1L8.5 8.5l.94-2.06 2.06-.94-2.06-.94L8.5 2.5l-.94 2.06-2.06.94zm10 10l.94 2.06.94-2.06 2.06-.94-2.06-.94-.94-2.06-.94 2.06-2.06.94z\"/><path d=\"M17.41 7.96l-1.37-1.37c-.4-.4-.92-.59-1.43-.59-.52 0-1.04.2-1.43.59L10.3 9.45l-7.72 7.72c-.78.78-.78 2.05 0 2.83L4 21.41c.39.39.9.59 1.41.59.51 0 1.02-.2 1.41-.59l7.78-7.78 2.81-2.81c.8-.78.8-2.07 0-2.86zM5.41 20L4 18.59l7.72-7.72 1.47 1.35L5.41 20z\"/>\n",
              "  </svg>\n",
              "      </button>\n",
              "      \n",
              "  <style>\n",
              "    .colab-df-container {\n",
              "      display:flex;\n",
              "      flex-wrap:wrap;\n",
              "      gap: 12px;\n",
              "    }\n",
              "\n",
              "    .colab-df-convert {\n",
              "      background-color: #E8F0FE;\n",
              "      border: none;\n",
              "      border-radius: 50%;\n",
              "      cursor: pointer;\n",
              "      display: none;\n",
              "      fill: #1967D2;\n",
              "      height: 32px;\n",
              "      padding: 0 0 0 0;\n",
              "      width: 32px;\n",
              "    }\n",
              "\n",
              "    .colab-df-convert:hover {\n",
              "      background-color: #E2EBFA;\n",
              "      box-shadow: 0px 1px 2px rgba(60, 64, 67, 0.3), 0px 1px 3px 1px rgba(60, 64, 67, 0.15);\n",
              "      fill: #174EA6;\n",
              "    }\n",
              "\n",
              "    [theme=dark] .colab-df-convert {\n",
              "      background-color: #3B4455;\n",
              "      fill: #D2E3FC;\n",
              "    }\n",
              "\n",
              "    [theme=dark] .colab-df-convert:hover {\n",
              "      background-color: #434B5C;\n",
              "      box-shadow: 0px 1px 3px 1px rgba(0, 0, 0, 0.15);\n",
              "      filter: drop-shadow(0px 1px 2px rgba(0, 0, 0, 0.3));\n",
              "      fill: #FFFFFF;\n",
              "    }\n",
              "  </style>\n",
              "\n",
              "      <script>\n",
              "        const buttonEl =\n",
              "          document.querySelector('#df-e97455eb-675e-42e9-b3b8-ca8dba50c630 button.colab-df-convert');\n",
              "        buttonEl.style.display =\n",
              "          google.colab.kernel.accessAllowed ? 'block' : 'none';\n",
              "\n",
              "        async function convertToInteractive(key) {\n",
              "          const element = document.querySelector('#df-e97455eb-675e-42e9-b3b8-ca8dba50c630');\n",
              "          const dataTable =\n",
              "            await google.colab.kernel.invokeFunction('convertToInteractive',\n",
              "                                                     [key], {});\n",
              "          if (!dataTable) return;\n",
              "\n",
              "          const docLinkHtml = 'Like what you see? Visit the ' +\n",
              "            '<a target=\"_blank\" href=https://colab.research.google.com/notebooks/data_table.ipynb>data table notebook</a>'\n",
              "            + ' to learn more about interactive tables.';\n",
              "          element.innerHTML = '';\n",
              "          dataTable['output_type'] = 'display_data';\n",
              "          await google.colab.output.renderOutput(dataTable, element);\n",
              "          const docLink = document.createElement('div');\n",
              "          docLink.innerHTML = docLinkHtml;\n",
              "          element.appendChild(docLink);\n",
              "        }\n",
              "      </script>\n",
              "    </div>\n",
              "  </div>\n",
              "  "
            ]
          },
          "metadata": {},
          "execution_count": 13
        }
      ]
    },
    {
      "cell_type": "code",
      "source": [
        "\n",
        "\n",
        "# Generate a mask for the upper triangle\n",
        "mask = np.triu(np.ones_like(cor, dtype=bool))\n",
        "\n",
        "# Set up the matplotlib figure\n",
        "f, ax = plt.subplots(figsize=(11, 9))\n",
        "\n",
        "# Generate a custom diverging colormap\n",
        "cmap = sns.diverging_palette(200, 10, as_cmap=True)\n",
        "\n",
        "# Draw the heatmap with the mask and correct aspect ratio\n",
        "sns.heatmap(cor, mask=mask, cmap=cmap, vmax=.3, center=0,\n",
        "            square=True, linewidths=.5, cbar_kws={\"shrink\": .5})"
      ],
      "metadata": {
        "colab": {
          "base_uri": "https://localhost:8080/",
          "height": 635
        },
        "id": "XYKIQuBAoa6U",
        "outputId": "7e351088-7ef2-4f76-9e60-242f29142177"
      },
      "execution_count": 14,
      "outputs": [
        {
          "output_type": "execute_result",
          "data": {
            "text/plain": [
              "<matplotlib.axes._subplots.AxesSubplot at 0x7ff4374ad510>"
            ]
          },
          "metadata": {},
          "execution_count": 14
        },
        {
          "output_type": "display_data",
          "data": {
            "text/plain": [
              "<Figure size 792x648 with 2 Axes>"
            ],
            "image/png": "[encoded data removed]"
          },
          "metadata": {
            "needs_background": "light"
          }
        }
      ]
    },
    {
      "cell_type": "code",
      "source": [
        "X = dset.drop([\"stroke\"], axis = 1)\n",
        "Y = dset[\"stroke\"]\n",
        "\n",
        "#X_train, X_test, y_train, y_test = train_test_split(X, Y, test_size=0.33, random_state=42)"
      ],
      "metadata": {
        "id": "Ap5NCAXYxYsp"
      },
      "execution_count": 38,
      "outputs": []
    },
    {
      "cell_type": "code",
      "source": [
        "data = dset.values\n",
        "X, y = data[:, :-1], data[:, -1]\n",
        "le=LabelEncoder()\n",
        "y=le.fit_transform(y)"
      ],
      "metadata": {
        "id": "UrJWq12cNTAo"
      },
      "execution_count": 112,
      "outputs": []
    },
    {
      "cell_type": "code",
      "source": [
        "X_train, X_test, y_train, y_test = train_test_split(X, y,\n",
        "                                                    test_size=0.3,\n",
        "                                                    random_state=123,\n",
        "                                                    shuffle=True,\n",
        "                                                    stratify=y)"
      ],
      "metadata": {
        "id": "HtW3JA1lOVFP"
      },
      "execution_count": 113,
      "outputs": []
    },
    {
      "cell_type": "code",
      "source": [
        "clf_dt = DecisionTreeClassifier(random_state=123)\n",
        "clf_dt.fit(X_train,y_train)\n",
        "y_pred=clf_dt.predict(X_test)\n",
        "\n",
        "avg_expected_loss, avg_bias, avg_var = bias_variance_decomp(clf_dt, X_train, y_train, X_test, y_test, \n",
        "                                                            loss='0-1_loss',random_seed=123)\n",
        "\n",
        "print(\"Accuracy:\", accuracy_score(y_test,y_pred))\n",
        "print(\"F1 Score:\", f1_score(y_test,y_pred))\n",
        "print(\"Recall:\", recall_score(y_test,y_pred))\n",
        "print(\"Precision:\",precision_score(y_test,y_pred))\n",
        "print(\"Confusion Matrix:\\n\",confusion_matrix(y_test,y_pred))\n",
        "print('Average expected loss: %.3f' % avg_expected_loss)\n",
        "print('Average bias: %.3f' % avg_bias)\n",
        "print('Average variance: %.3f' % avg_var)\n",
        "print('Sklearn 0-1 loss: %.3f' % zero_one_loss(y_test,y_pred))"
      ],
      "metadata": {
        "colab": {
          "base_uri": "https://localhost:8080/",
          "height": 0
        },
        "id": "_Q6uXR9sOiKT",
        "outputId": "dbc0a889-cdb5-4804-b5ec-feb9ab394490"
      },
      "execution_count": 194,
      "outputs": [
        {
          "output_type": "stream",
          "name": "stdout",
          "text": [
            "Accuracy: 0.9117056856187291\n",
            "F1 Score: 0.17500000000000002\n",
            "Recall: 0.1891891891891892\n",
            "Precision: 0.16279069767441862\n",
            "Confusion Matrix:\n",
            " [[1349   72]\n",
            " [  60   14]]\n",
            "Average expected loss: 0.094\n",
            "Average bias: 0.055\n",
            "Average variance: 0.060\n",
            "Sklearn 0-1 loss: 0.088\n"
          ]
        },
        {
          "output_type": "stream",
          "name": "stderr",
          "text": [
            "/usr/local/lib/python3.7/dist-packages/ipykernel_launcher.py:127: DeprecationWarning: `np.int` is a deprecated alias for the builtin `int`. To silence this warning, use `int` by itself. Doing this will not modify any behavior and is safe. When replacing `np.int`, you may wish to use e.g. `np.int64` or `np.int32` to specify the precision. If you wish to review your current use, check the release note link for additional information.\n",
            "Deprecated in NumPy 1.20; for more details and guidance: https://numpy.org/devdocs/release/1.20.0-notes.html#deprecations\n"
          ]
        }
      ]
    },
    {
      "cell_type": "code",
      "source": [
        "clf_dt.fit(X_train, y_train)\n",
        "train_predictions = clf_dt.predict(X_train)\n",
        "test_predictions = clf_dt.predict(X_test)\n",
        "train_acc = accuracy_score(y_train, train_predictions)\n",
        "test_acc = accuracy_score(y_test, test_predictions)\n",
        "print('train acc', train_acc)\n",
        "print('test acc', test_acc)"
      ],
      "metadata": {
        "colab": {
          "base_uri": "https://localhost:8080/",
          "height": 0
        },
        "id": "KaZV2lUBiffT",
        "outputId": "f12db215-2eb3-4875-dcb1-e86b9de514e2"
      },
      "execution_count": 186,
      "outputs": [
        {
          "output_type": "stream",
          "name": "stdout",
          "text": [
            "train acc 1.0\n",
            "test acc 0.9117056856187291\n"
          ]
        }
      ]
    },
    {
      "cell_type": "code",
      "source": [
        "### Después Pruning ###\n",
        "clf_dt_prnd = DecisionTreeClassifier(criterion='gini', max_depth=3, random_state=123)\n",
        "clf_dt_prnd.fit(X_train,y_train)\n",
        "y_pred=clf_dt_prnd.predict(X_test)\n",
        "\n",
        "avg_expected_loss, avg_bias, avg_var = bias_variance_decomp(\n",
        "        clf_dt_prnd, X_train, y_train, X_test, y_test, \n",
        "        loss='0-1_loss',\n",
        "        random_seed=123)\n",
        "\n",
        "\n",
        "print('Average expected loss--After pruning: %.3f' % avg_expected_loss)\n",
        "print('Average bias--After pruning: %.3f' % avg_bias)\n",
        "print('Average variance--After pruning: %.3f' % avg_var)\n",
        "print('Sklearn 0-1 loss--After pruning: %.3f' % zero_one_loss(y_test,y_pred))"
      ],
      "metadata": {
        "colab": {
          "base_uri": "https://localhost:8080/",
          "height": 0
        },
        "id": "MVVZHl5IOqkA",
        "outputId": "781653e8-1b05-4c96-d3f1-e2b3e1438df0"
      },
      "execution_count": 187,
      "outputs": [
        {
          "output_type": "stream",
          "name": "stdout",
          "text": [
            "Accuracy: 0.9478260869565217\n",
            "F1 Score: 0.0\n",
            "Recall: 0.0\n",
            "Precision: 0.0\n",
            "Average expected loss--After pruning: 0.053\n",
            "Average bias--After pruning: 0.049\n",
            "Average variance--After pruning: 0.005\n",
            "Sklearn 0-1 loss--After pruning: 0.052\n"
          ]
        },
        {
          "output_type": "stream",
          "name": "stderr",
          "text": [
            "/usr/local/lib/python3.7/dist-packages/ipykernel_launcher.py:127: DeprecationWarning: `np.int` is a deprecated alias for the builtin `int`. To silence this warning, use `int` by itself. Doing this will not modify any behavior and is safe. When replacing `np.int`, you may wish to use e.g. `np.int64` or `np.int32` to specify the precision. If you wish to review your current use, check the release note link for additional information.\n",
            "Deprecated in NumPy 1.20; for more details and guidance: https://numpy.org/devdocs/release/1.20.0-notes.html#deprecations\n"
          ]
        }
      ]
    },
    {
      "cell_type": "code",
      "source": [
        "clf_dt_prnd.fit(X_train, y_train)\n",
        "train_predictions = clf_dt_prnd.predict(X_train)\n",
        "test_predictions = clf_dt_prnd.predict(X_test)\n",
        "train_acc = accuracy_score(y_train, train_predictions)\n",
        "test_acc = accuracy_score(y_test, test_predictions)\n",
        "print('train acc', train_acc)\n",
        "print('test acc', test_acc)"
      ],
      "metadata": {
        "colab": {
          "base_uri": "https://localhost:8080/",
          "height": 0
        },
        "id": "zUZM1QyqibDq",
        "outputId": "11ab0b9c-f4a9-4d93-d027-d82a558e3cd9"
      },
      "execution_count": 188,
      "outputs": [
        {
          "output_type": "stream",
          "name": "stdout",
          "text": [
            "train acc 0.9515203671830178\n",
            "test acc 0.9478260869565217\n"
          ]
        }
      ]
    },
    {
      "cell_type": "code",
      "source": [
        "clf_dt_prnd = DecisionTreeClassifier(criterion='entropy', max_depth=3, random_state=123)\n",
        "clf_dt_prnd.fit(X_train,y_train)\n",
        "y_pred=clf_dt_prnd.predict(X_test)\n",
        "\n",
        "avg_expected_loss, avg_bias, avg_var = bias_variance_decomp(\n",
        "        clf_dt_prnd, X_train, y_train, X_test, y_test, \n",
        "        loss='0-1_loss',\n",
        "        random_seed=123)\n",
        "\n",
        "\n",
        "print('Average expected loss--After pruning: %.3f' % avg_expected_loss)\n",
        "print('Average bias--After pruning: %.3f' % avg_bias)\n",
        "print('Average variance--After pruning: %.3f' % avg_var)\n",
        "print('Sklearn 0-1 loss--After pruning: %.3f' % zero_one_loss(y_test,y_pred))"
      ],
      "metadata": {
        "colab": {
          "base_uri": "https://localhost:8080/",
          "height": 0
        },
        "id": "D8azJqruYkUn",
        "outputId": "00985f4e-1757-4ead-db6c-9ce073fedfe5"
      },
      "execution_count": 189,
      "outputs": [
        {
          "output_type": "stream",
          "name": "stdout",
          "text": [
            "Accuracy: 0.9505016722408027\n",
            "F1 Score: 0.0\n",
            "Recall: 0.0\n",
            "Precision: 0.0\n",
            "Average expected loss--After pruning: 0.051\n",
            "Average bias--After pruning: 0.049\n",
            "Average variance--After pruning: 0.002\n",
            "Sklearn 0-1 loss--After pruning: 0.049\n"
          ]
        },
        {
          "output_type": "stream",
          "name": "stderr",
          "text": [
            "/usr/local/lib/python3.7/dist-packages/ipykernel_launcher.py:127: DeprecationWarning: `np.int` is a deprecated alias for the builtin `int`. To silence this warning, use `int` by itself. Doing this will not modify any behavior and is safe. When replacing `np.int`, you may wish to use e.g. `np.int64` or `np.int32` to specify the precision. If you wish to review your current use, check the release note link for additional information.\n",
            "Deprecated in NumPy 1.20; for more details and guidance: https://numpy.org/devdocs/release/1.20.0-notes.html#deprecations\n",
            "/usr/local/lib/python3.7/dist-packages/sklearn/metrics/_classification.py:1318: UndefinedMetricWarning: Precision is ill-defined and being set to 0.0 due to no predicted samples. Use `zero_division` parameter to control this behavior.\n",
            "  _warn_prf(average, modifier, msg_start, len(result))\n"
          ]
        }
      ]
    },
    {
      "cell_type": "code",
      "source": [
        "clf_dt_prnd.fit(X_train, y_train)\n",
        "train_predictions = clf_dt_prnd.predict(X_train)\n",
        "test_predictions = clf_dt_prnd.predict(X_test)\n",
        "train_acc = accuracy_score(y_train, train_predictions)\n",
        "test_acc = accuracy_score(y_test, test_predictions)\n",
        "print('train acc', train_acc)\n",
        "print('test acc', test_acc)"
      ],
      "metadata": {
        "colab": {
          "base_uri": "https://localhost:8080/",
          "height": 0
        },
        "id": "7GQ-6Ju3iSG-",
        "outputId": "e6e97d87-9a98-482b-e02f-8cb66ec32292"
      },
      "execution_count": 190,
      "outputs": [
        {
          "output_type": "stream",
          "name": "stdout",
          "text": [
            "train acc 0.9500860585197934\n",
            "test acc 0.9505016722408027\n"
          ]
        }
      ]
    },
    {
      "cell_type": "code",
      "source": [
        "\n",
        "clf_RF = RandomForestClassifier(max_depth=2, random_state=0)\n",
        "clf_RF.fit(X_train,y_train)\n",
        "y_pred=clf_RF.predict(X_test)\n",
        "\n",
        "avg_expected_loss, avg_bias, avg_var = bias_variance_decomp(\n",
        "        clf_RF, X_train, y_train, X_test, y_test, \n",
        "        loss='0-1_loss',\n",
        "        random_seed=123)\n",
        "\n",
        "\n",
        "\n",
        "print('Average expected loss: %.3f' % avg_expected_loss)\n",
        "print('Average bias: %.3f' % avg_bias)\n",
        "print('Average variance: %.3f' % avg_var)\n",
        "print('Sklearn 0-1 loss: %.3f' % zero_one_loss(y_test,y_pred))"
      ],
      "metadata": {
        "colab": {
          "base_uri": "https://localhost:8080/",
          "height": 0
        },
        "id": "gmT-Kt-wOr_6",
        "outputId": "503be3ce-7db5-4e95-c449-b1a30b13b226"
      },
      "execution_count": 191,
      "outputs": [
        {
          "output_type": "stream",
          "name": "stdout",
          "text": [
            "Accuracy: 0.9505016722408027\n",
            "F1 Score: 0.0\n",
            "Recall: 0.0\n",
            "Precision: 0.0\n",
            "Average expected loss: 0.049\n",
            "Average bias: 0.049\n",
            "Average variance: 0.000\n",
            "Sklearn 0-1 loss: 0.049\n"
          ]
        },
        {
          "output_type": "stream",
          "name": "stderr",
          "text": [
            "/usr/local/lib/python3.7/dist-packages/ipykernel_launcher.py:127: DeprecationWarning: `np.int` is a deprecated alias for the builtin `int`. To silence this warning, use `int` by itself. Doing this will not modify any behavior and is safe. When replacing `np.int`, you may wish to use e.g. `np.int64` or `np.int32` to specify the precision. If you wish to review your current use, check the release note link for additional information.\n",
            "Deprecated in NumPy 1.20; for more details and guidance: https://numpy.org/devdocs/release/1.20.0-notes.html#deprecations\n",
            "/usr/local/lib/python3.7/dist-packages/sklearn/metrics/_classification.py:1318: UndefinedMetricWarning: Precision is ill-defined and being set to 0.0 due to no predicted samples. Use `zero_division` parameter to control this behavior.\n",
            "  _warn_prf(average, modifier, msg_start, len(result))\n"
          ]
        }
      ]
    },
    {
      "cell_type": "code",
      "source": [
        "\n",
        "clf_RF.fit(X_train, y_train)\n",
        "train_predictions = clf_RF.predict(X_train)\n",
        "test_predictions = clf_RF.predict(X_test)\n",
        "train_acc = accuracy_score(y_train, train_predictions)\n",
        "test_acc = accuracy_score(y_test, test_predictions)\n",
        "print('train acc', train_acc)\n",
        "print('test acc', test_acc)\n"
      ],
      "metadata": {
        "colab": {
          "base_uri": "https://localhost:8080/",
          "height": 0
        },
        "id": "vQw7zqlrZj-P",
        "outputId": "b3194b2e-97bd-4e4f-af7d-c7ebb883fc5d"
      },
      "execution_count": 159,
      "outputs": [
        {
          "output_type": "stream",
          "name": "stdout",
          "text": [
            "train acc 0.9500860585197934\n",
            "test acc 0.9505016722408027\n"
          ]
        }
      ]
    },
    {
      "cell_type": "code",
      "source": [
        "train_accuracies = []\n",
        "test_accuracies = []\n",
        "\n",
        "for depth in range(1,25):\n",
        "  tree_model = DecisionTreeClassifier(max_depth=depth)\n",
        "  tree_model.fit(X_train, y_train)\n",
        "\n",
        "  train_predictions = tree_model.predict(X_train)\n",
        "  test_predictions = tree_model.predict(X_test)\n",
        "\n",
        "  train_accuracy = metrics.accuracy_score(y_train, train_predictions)\n",
        "  test_accuracy = metrics.accuracy_score(y_test,test_predictions)\n",
        "\n",
        "  train_accuracies.append(train_accuracy)\n",
        "  test_accuracies.append(test_accuracy)\n",
        "\n",
        "\n",
        "\n",
        "plt.figure(figsize=(10,5))\n",
        "sns.set_style(\"whitegrid\")\n",
        "plt.plot(train_accuracies, label = \"train accuracy\")\n",
        "plt.plot(test_accuracies, label = \"test accuracy\")\n",
        "plt.legend(loc = \"upper left\")\n",
        "plt.xticks(range(0,26,5))\n",
        "plt.xlabel(\"max_depth\",size = 20)\n",
        "plt.ylabel(\"accuracy\",size = 20)\n",
        "plt.show"
      ],
      "metadata": {
        "colab": {
          "base_uri": "https://localhost:8080/",
          "height": 361
        },
        "id": "wnvF200GitZ_",
        "outputId": "f7e076a7-3739-454e-e260-1215f1e71d93"
      },
      "execution_count": 203,
      "outputs": [
        {
          "output_type": "execute_result",
          "data": {
            "text/plain": [
              "<function matplotlib.pyplot.show(*args, **kw)>"
            ]
          },
          "metadata": {},
          "execution_count": 203
        },
        {
          "output_type": "display_data",
          "data": {
            "text/plain": [
              "<Figure size 720x360 with 1 Axes>"
            ],
            "image/png": "[encoded data removed]"
          },
          "metadata": {
            "needs_background": "light"
          }
        }
      ]
    }
  ]
}